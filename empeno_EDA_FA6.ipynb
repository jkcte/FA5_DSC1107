{
 "cells": [
  {
   "cell_type": "code",
   "execution_count": 1,
   "id": "ffa46d4d",
   "metadata": {},
   "outputs": [
    {
     "data": {
      "application/vnd.microsoft.datawrangler.viewer.v0+json": {
       "columns": [
        {
         "name": "index",
         "rawType": "object",
         "type": "string"
        },
        {
         "name": "Customer ID",
         "rawType": "float64",
         "type": "float"
        },
        {
         "name": "Age",
         "rawType": "float64",
         "type": "float"
        },
        {
         "name": "Annual Income (K$)",
         "rawType": "float64",
         "type": "float"
        },
        {
         "name": "Average Spend per Visit ($)",
         "rawType": "float64",
         "type": "float"
        },
        {
         "name": "Number of Visits in Last 6 Months",
         "rawType": "float64",
         "type": "float"
        }
       ],
       "conversionMethod": "pd.DataFrame",
       "ref": "2cba8876-c6be-47ca-811e-6a69596bd7f9",
       "rows": [
        [
         "count",
         "10532.0",
         "10532.0",
         "10532.0",
         "10532.0",
         "10532.0"
        ],
        [
         "mean",
         "5266.5",
         "43.59371439422712",
         "89.18372578807444",
         "104.29675044777376",
         "21.922236992024306"
        ],
        [
         "std",
         "3040.470851693862",
         "14.904285845925275",
         "34.41076019098499",
         "54.61139396302536",
         "10.084682334374744"
        ],
        [
         "min",
         "1.0",
         "18.0",
         "30.0",
         "10.001051968390218",
         "5.0"
        ],
        [
         "25%",
         "2633.75",
         "31.0",
         "59.0",
         "56.70686527578999",
         "13.0"
        ],
        [
         "50%",
         "5266.5",
         "43.0",
         "89.0",
         "104.68660065173952",
         "22.0"
        ],
        [
         "75%",
         "7899.25",
         "56.0",
         "118.0",
         "150.88553582179776",
         "31.0"
        ],
        [
         "max",
         "10532.0",
         "69.0",
         "149.0",
         "199.9599806443931",
         "39.0"
        ]
       ],
       "shape": {
        "columns": 5,
        "rows": 8
       }
      },
      "text/html": [
       "<div>\n",
       "<style scoped>\n",
       "    .dataframe tbody tr th:only-of-type {\n",
       "        vertical-align: middle;\n",
       "    }\n",
       "\n",
       "    .dataframe tbody tr th {\n",
       "        vertical-align: top;\n",
       "    }\n",
       "\n",
       "    .dataframe thead th {\n",
       "        text-align: right;\n",
       "    }\n",
       "</style>\n",
       "<table border=\"1\" class=\"dataframe\">\n",
       "  <thead>\n",
       "    <tr style=\"text-align: right;\">\n",
       "      <th></th>\n",
       "      <th>Customer ID</th>\n",
       "      <th>Age</th>\n",
       "      <th>Annual Income (K$)</th>\n",
       "      <th>Average Spend per Visit ($)</th>\n",
       "      <th>Number of Visits in Last 6 Months</th>\n",
       "    </tr>\n",
       "  </thead>\n",
       "  <tbody>\n",
       "    <tr>\n",
       "      <th>count</th>\n",
       "      <td>10532.000000</td>\n",
       "      <td>10532.000000</td>\n",
       "      <td>10532.000000</td>\n",
       "      <td>10532.000000</td>\n",
       "      <td>10532.000000</td>\n",
       "    </tr>\n",
       "    <tr>\n",
       "      <th>mean</th>\n",
       "      <td>5266.500000</td>\n",
       "      <td>43.593714</td>\n",
       "      <td>89.183726</td>\n",
       "      <td>104.296750</td>\n",
       "      <td>21.922237</td>\n",
       "    </tr>\n",
       "    <tr>\n",
       "      <th>std</th>\n",
       "      <td>3040.470852</td>\n",
       "      <td>14.904286</td>\n",
       "      <td>34.410760</td>\n",
       "      <td>54.611394</td>\n",
       "      <td>10.084682</td>\n",
       "    </tr>\n",
       "    <tr>\n",
       "      <th>min</th>\n",
       "      <td>1.000000</td>\n",
       "      <td>18.000000</td>\n",
       "      <td>30.000000</td>\n",
       "      <td>10.001052</td>\n",
       "      <td>5.000000</td>\n",
       "    </tr>\n",
       "    <tr>\n",
       "      <th>25%</th>\n",
       "      <td>2633.750000</td>\n",
       "      <td>31.000000</td>\n",
       "      <td>59.000000</td>\n",
       "      <td>56.706865</td>\n",
       "      <td>13.000000</td>\n",
       "    </tr>\n",
       "    <tr>\n",
       "      <th>50%</th>\n",
       "      <td>5266.500000</td>\n",
       "      <td>43.000000</td>\n",
       "      <td>89.000000</td>\n",
       "      <td>104.686601</td>\n",
       "      <td>22.000000</td>\n",
       "    </tr>\n",
       "    <tr>\n",
       "      <th>75%</th>\n",
       "      <td>7899.250000</td>\n",
       "      <td>56.000000</td>\n",
       "      <td>118.000000</td>\n",
       "      <td>150.885536</td>\n",
       "      <td>31.000000</td>\n",
       "    </tr>\n",
       "    <tr>\n",
       "      <th>max</th>\n",
       "      <td>10532.000000</td>\n",
       "      <td>69.000000</td>\n",
       "      <td>149.000000</td>\n",
       "      <td>199.959981</td>\n",
       "      <td>39.000000</td>\n",
       "    </tr>\n",
       "  </tbody>\n",
       "</table>\n",
       "</div>"
      ],
      "text/plain": [
       "        Customer ID           Age  Annual Income (K$)  \\\n",
       "count  10532.000000  10532.000000        10532.000000   \n",
       "mean    5266.500000     43.593714           89.183726   \n",
       "std     3040.470852     14.904286           34.410760   \n",
       "min        1.000000     18.000000           30.000000   \n",
       "25%     2633.750000     31.000000           59.000000   \n",
       "50%     5266.500000     43.000000           89.000000   \n",
       "75%     7899.250000     56.000000          118.000000   \n",
       "max    10532.000000     69.000000          149.000000   \n",
       "\n",
       "       Average Spend per Visit ($)  Number of Visits in Last 6 Months  \n",
       "count                 10532.000000                       10532.000000  \n",
       "mean                    104.296750                          21.922237  \n",
       "std                      54.611394                          10.084682  \n",
       "min                      10.001052                           5.000000  \n",
       "25%                      56.706865                          13.000000  \n",
       "50%                     104.686601                          22.000000  \n",
       "75%                     150.885536                          31.000000  \n",
       "max                     199.959981                          39.000000  "
      ]
     },
     "execution_count": 1,
     "metadata": {},
     "output_type": "execute_result"
    }
   ],
   "source": [
    "import pandas as pd\n",
    "\n",
    "df = pd.read_csv('customer_segmentation.csv')\n",
    "df.describe()"
   ]
  },
  {
   "cell_type": "code",
   "execution_count": 2,
   "id": "608f91f0",
   "metadata": {},
   "outputs": [
    {
     "name": "stdout",
     "output_type": "stream",
     "text": [
      "<class 'pandas.core.frame.DataFrame'>\n",
      "RangeIndex: 10532 entries, 0 to 10531\n",
      "Data columns (total 8 columns):\n",
      " #   Column                             Non-Null Count  Dtype  \n",
      "---  ------                             --------------  -----  \n",
      " 0   Customer ID                        10532 non-null  int64  \n",
      " 1   Age                                10532 non-null  int64  \n",
      " 2   Annual Income (K$)                 10532 non-null  int64  \n",
      " 3   Gender                             10532 non-null  object \n",
      " 4   Product Category Purchased         10532 non-null  object \n",
      " 5   Average Spend per Visit ($)        10532 non-null  float64\n",
      " 6   Number of Visits in Last 6 Months  10532 non-null  int64  \n",
      " 7   Customer Segment                   10532 non-null  object \n",
      "dtypes: float64(1), int64(4), object(3)\n",
      "memory usage: 658.4+ KB\n"
     ]
    }
   ],
   "source": [
    "df.info()"
   ]
  },
  {
   "cell_type": "code",
   "execution_count": 5,
   "id": "6a3bc9bb",
   "metadata": {},
   "outputs": [
    {
     "data": {
      "text/plain": [
       "Index(['Customer ID', 'Age', 'Annual Income (K$)', 'Gender',\n",
       "       'Product Category Purchased', 'Average Spend per Visit ($)',\n",
       "       'Number of Visits in Last 6 Months', 'Customer Segment'],\n",
       "      dtype='object')"
      ]
     },
     "execution_count": 5,
     "metadata": {},
     "output_type": "execute_result"
    }
   ],
   "source": [
    "df.columns"
   ]
  },
  {
   "cell_type": "code",
   "execution_count": null,
   "id": "7cf70ba2",
   "metadata": {},
   "outputs": [
    {
     "data": {
      "image/png": "[encoded data removed]",
      "text/plain": [
       "<Figure size 1500x500 with 3 Axes>"
      ]
     },
     "metadata": {},
     "output_type": "display_data"
    }
   ],
   "source": [
    "import matplotlib.pyplot as plt\n",
    "\n",
    "df[['Age', 'Annual Income (K$)', 'Average Spend per Visit ($)']].hist(bins=30, figsize=(15, 5), layout=(1, 3), color='skyblue', edgecolor='black')\n",
    "plt.suptitle('Distribution of Age, Annual Income, and Average Spend per Visit', fontsize=16)\n",
    "plt.tight_layout(rect=[0, 0, 1, 0.95])\n",
    "plt.show()"
   ]
  },
  {
   "cell_type": "code",
   "execution_count": null,
   "id": "6a74822e",
   "metadata": {},
   "outputs": [
    {
     "name": "stdout",
     "output_type": "stream",
     "text": [
      "Missing values in each column:\n",
      " Customer ID                          0\n",
      "Age                                  0\n",
      "Annual Income (K$)                   0\n",
      "Gender                               0\n",
      "Product Category Purchased           0\n",
      "Average Spend per Visit ($)          0\n",
      "Number of Visits in Last 6 Months    0\n",
      "Customer Segment                     0\n",
      "dtype: int64\n",
      "\n",
      "Missing values after handling:\n",
      " Customer ID                          0\n",
      "Age                                  0\n",
      "Annual Income (K$)                   0\n",
      "Gender                               0\n",
      "Product Category Purchased           0\n",
      "Average Spend per Visit ($)          0\n",
      "Number of Visits in Last 6 Months    0\n",
      "Customer Segment                     0\n",
      "dtype: int64\n"
     ]
    },
    {
     "name": "stderr",
     "output_type": "stream",
     "text": [
      "C:\\Users\\Owner\\AppData\\Local\\Temp\\ipykernel_5948\\20847557.py:10: FutureWarning: A value is trying to be set on a copy of a DataFrame or Series through chained assignment using an inplace method.\n",
      "The behavior will change in pandas 3.0. This inplace method will never work because the intermediate object on which we are setting values always behaves as a copy.\n",
      "\n",
      "For example, when doing 'df[col].method(value, inplace=True)', try using 'df.method({col: value}, inplace=True)' or df[col] = df[col].method(value) instead, to perform the operation inplace on the original object.\n",
      "\n",
      "\n",
      "  df[column].fillna(df[column].mean(), inplace=True)\n",
      "C:\\Users\\Owner\\AppData\\Local\\Temp\\ipykernel_5948\\20847557.py:8: FutureWarning: A value is trying to be set on a copy of a DataFrame or Series through chained assignment using an inplace method.\n",
      "The behavior will change in pandas 3.0. This inplace method will never work because the intermediate object on which we are setting values always behaves as a copy.\n",
      "\n",
      "For example, when doing 'df[col].method(value, inplace=True)', try using 'df.method({col: value}, inplace=True)' or df[col] = df[col].method(value) instead, to perform the operation inplace on the original object.\n",
      "\n",
      "\n",
      "  df[column].fillna(df[column].mode()[0], inplace=True)\n"
     ]
    }
   ],
   "source": [
    "missing_values = df.isnull().sum()\n",
    "print(\"Missing values in each column:\\n\", missing_values)\n",
    "for column in df.columns:\n",
    "    if df[column].dtype == 'object':  # Categorical column\n",
    "        df[column].fillna(df[column].mode()[0], inplace=True)\n",
    "    else:\n",
    "        df[column].fillna(df[column].mean(), inplace=True)\n",
    "\n",
    "print(\"\\nMissing values after handling:\\n\", df.isnull().sum())"
   ]
  },
  {
   "cell_type": "code",
   "execution_count": null,
   "id": "38c92053",
   "metadata": {},
   "outputs": [
    {
     "name": "stdout",
     "output_type": "stream",
     "text": [
      "Customer Segment\n",
      "Regular Shopper    3533\n",
      "Budget Shopper     3516\n",
      "Premium Shopper    3483\n",
      "Name: count, dtype: int64\n"
     ]
    },
    {
     "data": {
      "image/png": "[encoded data removed]",
      "text/plain": [
       "<Figure size 800x500 with 1 Axes>"
      ]
     },
     "metadata": {},
     "output_type": "display_data"
    }
   ],
   "source": [
    "segment_distribution = df['Customer Segment'].value_counts()\n",
    "print(segment_distribution)\n",
    "\n",
    "segment_distribution.plot(kind='bar', color='skyblue', edgecolor='black', figsize=(8, 5))\n",
    "plt.title('Distribution of Customer Segment')\n",
    "plt.xlabel('Customer Segment')\n",
    "plt.ylabel('Count')\n",
    "plt.xticks(rotation=45)\n",
    "plt.show()"
   ]
  },
  {
   "cell_type": "code",
   "execution_count": null,
   "id": "fbe7a13c",
   "metadata": {},
   "outputs": [
    {
     "name": "stdout",
     "output_type": "stream",
     "text": [
      "   Customer ID  Age  Annual Income (K$)  Gender  Average Spend per Visit ($)  \\\n",
      "0            1   56                 106       0                   163.452764   \n",
      "1            2   69                  66       0                   163.020496   \n",
      "2            3   46                 110       1                   104.541284   \n",
      "3            4   32                  50       1                   110.064567   \n",
      "4            5   60                  73       0                   142.254559   \n",
      "\n",
      "   Number of Visits in Last 6 Months Customer Segment  \\\n",
      "0                                 16  Premium Shopper   \n",
      "1                                 31   Budget Shopper   \n",
      "2                                 29   Budget Shopper   \n",
      "3                                 26  Regular Shopper   \n",
      "4                                 38  Regular Shopper   \n",
      "\n",
      "   Product Category Purchased_Electronics  Product Category Purchased_Fashion  \\\n",
      "0                                   False                                True   \n",
      "1                                   False                               False   \n",
      "2                                   False                                True   \n",
      "3                                    True                               False   \n",
      "4                                   False                               False   \n",
      "\n",
      "   Product Category Purchased_Home  Product Category Purchased_Others  \n",
      "0                            False                              False  \n",
      "1                             True                              False  \n",
      "2                            False                              False  \n",
      "3                            False                              False  \n",
      "4                            False                               True  \n"
     ]
    }
   ],
   "source": [
    "from sklearn.preprocessing import LabelEncoder\n",
    "\n",
    "label_encoder = LabelEncoder()\n",
    "df['Gender'] = label_encoder.fit_transform(df['Gender'])\n",
    "df = pd.get_dummies(df, columns=['Product Category Purchased'], drop_first=True)\n",
    "\n",
    "print(df.head())"
   ]
  },
  {
   "cell_type": "code",
   "execution_count": null,
   "id": "40883ac7",
   "metadata": {},
   "outputs": [
    {
     "name": "stdout",
     "output_type": "stream",
     "text": [
      "   Customer ID       Age  Annual Income (K$)  Gender  \\\n",
      "0            1  0.832437            0.488716       0   \n",
      "1            2  1.704710           -0.673767       0   \n",
      "2            3  0.161457            0.604964       1   \n",
      "3            4 -0.777915           -1.138760       1   \n",
      "4            5  1.100829           -0.470332       0   \n",
      "\n",
      "   Average Spend per Visit ($)  Number of Visits in Last 6 Months  \\\n",
      "0                     1.083269                                 16   \n",
      "1                     1.075353                                 31   \n",
      "2                     0.004478                                 29   \n",
      "3                     0.105621                                 26   \n",
      "4                     0.695086                                 38   \n",
      "\n",
      "  Customer Segment  Product Category Purchased_Electronics  \\\n",
      "0  Premium Shopper                                   False   \n",
      "1   Budget Shopper                                   False   \n",
      "2   Budget Shopper                                   False   \n",
      "3  Regular Shopper                                    True   \n",
      "4  Regular Shopper                                   False   \n",
      "\n",
      "   Product Category Purchased_Fashion  Product Category Purchased_Home  \\\n",
      "0                                True                            False   \n",
      "1                               False                             True   \n",
      "2                                True                            False   \n",
      "3                               False                            False   \n",
      "4                               False                            False   \n",
      "\n",
      "   Product Category Purchased_Others  \n",
      "0                              False  \n",
      "1                              False  \n",
      "2                              False  \n",
      "3                              False  \n",
      "4                               True  \n"
     ]
    }
   ],
   "source": [
    "from sklearn.preprocessing import StandardScaler\n",
    "\n",
    "scaler = StandardScaler()\n",
    "continuous_columns = ['Age', 'Annual Income (K$)', 'Average Spend per Visit ($)']\n",
    "df[continuous_columns] = scaler.fit_transform(df[continuous_columns])\n",
    "\n",
    "print(df.head())"
   ]
  },
  {
   "cell_type": "code",
   "execution_count": null,
   "id": "dc928759",
   "metadata": {},
   "outputs": [
    {
     "name": "stdout",
     "output_type": "stream",
     "text": [
      "Training set shape: (8425, 10) (8425,)\n",
      "Testing set shape: (2107, 10) (2107,)\n"
     ]
    }
   ],
   "source": [
    "from sklearn.model_selection import train_test_split\n",
    "\n",
    "X = df.drop(columns=['Customer Segment'])\n",
    "y = df['Customer Segment']\n",
    "X_train, X_test, y_train, y_test = train_test_split(X, y, test_size=0.2, random_state=42)\n",
    "\n",
    "print(\"Training set shape:\", X_train.shape, y_train.shape)\n",
    "print(\"Testing set shape:\", X_test.shape, y_test.shape)"
   ]
  },
  {
   "cell_type": "code",
   "execution_count": null,
   "id": "54126278",
   "metadata": {},
   "outputs": [
    {
     "name": "stderr",
     "output_type": "stream",
     "text": [
      "c:\\Users\\Owner\\Documents\\GitHub\\FA5_DSC1107\\.env\\Lib\\site-packages\\sklearn\\linear_model\\_logistic.py:1247: FutureWarning: 'multi_class' was deprecated in version 1.5 and will be removed in 1.7. From then on, it will always use 'multinomial'. Leave it to its default value to avoid this warning.\n",
      "  warnings.warn(\n"
     ]
    },
    {
     "name": "stdout",
     "output_type": "stream",
     "text": [
      "Accuracy of the multinomial logistic regression model: 0.33\n",
      "\n",
      "Classification Report:\n",
      "                 precision    recall  f1-score   support\n",
      "\n",
      " Budget Shopper       0.33      0.51      0.40       654\n",
      "Premium Shopper       0.30      0.15      0.20       706\n",
      "Regular Shopper       0.35      0.34      0.34       747\n",
      "\n",
      "       accuracy                           0.33      2107\n",
      "      macro avg       0.33      0.33      0.32      2107\n",
      "   weighted avg       0.33      0.33      0.31      2107\n",
      "\n"
     ]
    },
    {
     "name": "stderr",
     "output_type": "stream",
     "text": [
      "c:\\Users\\Owner\\Documents\\GitHub\\FA5_DSC1107\\.env\\Lib\\site-packages\\sklearn\\linear_model\\_logistic.py:465: ConvergenceWarning: lbfgs failed to converge (status=1):\n",
      "STOP: TOTAL NO. OF ITERATIONS REACHED LIMIT.\n",
      "\n",
      "Increase the number of iterations (max_iter) or scale the data as shown in:\n",
      "    https://scikit-learn.org/stable/modules/preprocessing.html\n",
      "Please also refer to the documentation for alternative solver options:\n",
      "    https://scikit-learn.org/stable/modules/linear_model.html#logistic-regression\n",
      "  n_iter_i = _check_optimize_result(\n"
     ]
    }
   ],
   "source": [
    "from sklearn.linear_model import LogisticRegression\n",
    "from sklearn.metrics import classification_report, accuracy_score\n",
    "\n",
    "logistic_model = LogisticRegression(multi_class='multinomial', solver='lbfgs', max_iter=500, random_state=42)\n",
    "logistic_model.fit(X_train, y_train)\n",
    "y_pred = logistic_model.predict(X_test)\n",
    "\n",
    "accuracy = accuracy_score(y_test, y_pred)\n",
    "print(f\"Accuracy of the multinomial logistic regression model: {accuracy:.2f}\")\n",
    "\n",
    "print(\"\\nClassification Report:\")\n",
    "print(classification_report(y_test, y_pred))"
   ]
  },
  {
   "cell_type": "code",
   "execution_count": null,
   "id": "ea3b4ab4",
   "metadata": {},
   "outputs": [
    {
     "name": "stderr",
     "output_type": "stream",
     "text": [
      "c:\\Users\\Owner\\Documents\\GitHub\\FA5_DSC1107\\.env\\Lib\\site-packages\\sklearn\\linear_model\\_logistic.py:1247: FutureWarning: 'multi_class' was deprecated in version 1.5 and will be removed in 1.7. From then on, it will always use 'multinomial'. Leave it to its default value to avoid this warning.\n",
      "  warnings.warn(\n"
     ]
    },
    {
     "name": "stdout",
     "output_type": "stream",
     "text": [
      "Accuracy of the multinomial logistic regression model with regularization: 0.33\n",
      "\n",
      "Classification Report:\n",
      "                 precision    recall  f1-score   support\n",
      "\n",
      " Budget Shopper       0.33      0.51      0.40       654\n",
      "Premium Shopper       0.30      0.15      0.20       706\n",
      "Regular Shopper       0.35      0.34      0.34       747\n",
      "\n",
      "       accuracy                           0.33      2107\n",
      "      macro avg       0.33      0.33      0.31      2107\n",
      "   weighted avg       0.33      0.33      0.31      2107\n",
      "\n"
     ]
    },
    {
     "name": "stderr",
     "output_type": "stream",
     "text": [
      "c:\\Users\\Owner\\Documents\\GitHub\\FA5_DSC1107\\.env\\Lib\\site-packages\\sklearn\\linear_model\\_logistic.py:465: ConvergenceWarning: lbfgs failed to converge (status=1):\n",
      "STOP: TOTAL NO. OF ITERATIONS REACHED LIMIT.\n",
      "\n",
      "Increase the number of iterations (max_iter) or scale the data as shown in:\n",
      "    https://scikit-learn.org/stable/modules/preprocessing.html\n",
      "Please also refer to the documentation for alternative solver options:\n",
      "    https://scikit-learn.org/stable/modules/linear_model.html#logistic-regression\n",
      "  n_iter_i = _check_optimize_result(\n"
     ]
    }
   ],
   "source": [
    "logistic_model = LogisticRegression(multi_class='multinomial', solver='lbfgs', C=0.5, max_iter=500, random_state=42)\n",
    "logistic_model.fit(X_train, y_train)\n",
    "y_pred = logistic_model.predict(X_test)\n",
    "\n",
    "accuracy = accuracy_score(y_test, y_pred)\n",
    "print(f\"Accuracy of the multinomial logistic regression model with regularization: {accuracy:.2f}\")\n",
    "print(\"\\nClassification Report:\")\n",
    "print(classification_report(y_test, y_pred))"
   ]
  },
  {
   "cell_type": "code",
   "execution_count": null,
   "id": "368f7a14",
   "metadata": {},
   "outputs": [
    {
     "name": "stderr",
     "output_type": "stream",
     "text": [
      "c:\\Users\\Owner\\Documents\\GitHub\\FA5_DSC1107\\.env\\Lib\\site-packages\\sklearn\\linear_model\\_logistic.py:1247: FutureWarning: 'multi_class' was deprecated in version 1.5 and will be removed in 1.7. From then on, it will always use 'multinomial'. Leave it to its default value to avoid this warning.\n",
      "  warnings.warn(\n"
     ]
    },
    {
     "name": "stdout",
     "output_type": "stream",
     "text": [
      "Best parameters: {'C': 0.1}\n",
      "Best cross-validation accuracy: 0.3335311572700297\n",
      "Test set accuracy with tuned hyperparameters: 0.33\n"
     ]
    },
    {
     "name": "stderr",
     "output_type": "stream",
     "text": [
      "c:\\Users\\Owner\\Documents\\GitHub\\FA5_DSC1107\\.env\\Lib\\site-packages\\sklearn\\linear_model\\_logistic.py:465: ConvergenceWarning: lbfgs failed to converge (status=1):\n",
      "STOP: TOTAL NO. OF ITERATIONS REACHED LIMIT.\n",
      "\n",
      "Increase the number of iterations (max_iter) or scale the data as shown in:\n",
      "    https://scikit-learn.org/stable/modules/preprocessing.html\n",
      "Please also refer to the documentation for alternative solver options:\n",
      "    https://scikit-learn.org/stable/modules/linear_model.html#logistic-regression\n",
      "  n_iter_i = _check_optimize_result(\n"
     ]
    }
   ],
   "source": [
    "from sklearn.model_selection import GridSearchCV\n",
    "\n",
    "param_grid = {'C': [0.01, 0.1, 0.5, 1, 5, 10]}\n",
    "logistic_model = LogisticRegression(multi_class='multinomial', solver='lbfgs', max_iter=500, random_state=42)\n",
    "grid_search = GridSearchCV(estimator=logistic_model, param_grid=param_grid, cv=5, scoring='accuracy', n_jobs=-1)\n",
    "grid_search.fit(X_train, y_train)\n",
    "\n",
    "print(\"Best parameters:\", grid_search.best_params_)\n",
    "print(\"Best cross-validation accuracy:\", grid_search.best_score_)\n",
    "\n",
    "best_model = grid_search.best_estimator_\n",
    "y_pred = best_model.predict(X_test)\n",
    "accuracy = accuracy_score(y_test, y_pred)\n",
    "print(f\"Test set accuracy with tuned hyperparameters: {accuracy:.2f}\")"
   ]
  },
  {
   "cell_type": "code",
   "execution_count": null,
   "id": "1548eb25",
   "metadata": {
    "vscode": {
     "languageId": "lua"
    }
   },
   "outputs": [
    {
     "name": "stdout",
     "output_type": "stream",
     "text": [
      "Precision: 0.32\n",
      "Recall: 0.33\n",
      "F1-Score: 0.31\n",
      "Log-Loss: 1.10\n"
     ]
    }
   ],
   "source": [
    "from sklearn.metrics import confusion_matrix, precision_score, recall_score, f1_score, log_loss\n",
    "\n",
    "conf_matrix = confusion_matrix(y_test, y_pred)\n",
    "precision = precision_score(y_test, y_pred, average='weighted')\n",
    "recall = recall_score(y_test, y_pred, average='weighted')\n",
    "f1 = f1_score(y_test, y_pred, average='weighted')\n",
    "\n",
    "print(f\"Precision: {precision:.2f}\")\n",
    "print(f\"Recall: {recall:.2f}\")\n",
    "print(f\"F1-Score: {f1:.2f}\")\n",
    "\n",
    "y_pred_proba = best_model.predict_proba(X_test)\n",
    "log_loss_value = log_loss(y_test, y_pred_proba)\n",
    "print(f\"Log-Loss: {log_loss_value:.2f}\")"
   ]
  },
  {
   "cell_type": "code",
   "execution_count": null,
   "id": "47caf59c",
   "metadata": {},
   "outputs": [
    {
     "data": {
      "image/png": "[encoded data removed]",
      "text/plain": [
       "<Figure size 800x600 with 2 Axes>"
      ]
     },
     "metadata": {},
     "output_type": "display_data"
    }
   ],
   "source": [
    "import seaborn as sns\n",
    "\n",
    "plt.figure(figsize=(8, 6))\n",
    "sns.heatmap(conf_matrix, annot=True, fmt='d', cmap='Blues', xticklabels=best_model.classes_, yticklabels=best_model.classes_)\n",
    "plt.title('Confusion Matrix')\n",
    "plt.xlabel('Predicted Labels')\n",
    "plt.ylabel('True Labels')\n",
    "plt.show()"
   ]
  },
  {
   "cell_type": "code",
   "execution_count": null,
   "id": "80d3f6a3",
   "metadata": {},
   "outputs": [
    {
     "name": "stdout",
     "output_type": "stream",
     "text": [
      "Best parameters with interaction features: {'C': 10}\n",
      "Best cross-validation accuracy with interaction features: 0.3312759643916914\n",
      "Test set accuracy with interaction features and tuned hyperparameters: 0.33\n"
     ]
    },
    {
     "name": "stderr",
     "output_type": "stream",
     "text": [
      "c:\\Users\\Owner\\Documents\\GitHub\\FA5_DSC1107\\.env\\Lib\\site-packages\\sklearn\\linear_model\\_logistic.py:1247: FutureWarning: 'multi_class' was deprecated in version 1.5 and will be removed in 1.7. From then on, it will always use 'multinomial'. Leave it to its default value to avoid this warning.\n",
      "  warnings.warn(\n"
     ]
    }
   ],
   "source": [
    "from sklearn.preprocessing import PolynomialFeatures\n",
    "\n",
    "interaction = PolynomialFeatures(degree=2, interaction_only=True, include_bias=False)\n",
    "interaction_features = interaction.fit_transform(df[['Age', 'Annual Income (K$)', 'Average Spend per Visit ($)']])\n",
    "interaction_feature_names = interaction.get_feature_names_out(['Age', 'Annual Income (K$)', 'Average Spend per Visit ($)'])\n",
    "\n",
    "interaction_df = pd.DataFrame(interaction_features, columns=interaction_feature_names, index=df.index)\n",
    "\n",
    "df_interaction = pd.concat([df, interaction_df], axis=1)\n",
    "\n",
    "X_interaction = df_interaction.drop(columns=['Customer Segment', 'Customer ID'])\n",
    "y_interaction = df_interaction['Customer Segment']\n",
    "\n",
    "X_train_interaction, X_test_interaction, y_train_interaction, y_test_interaction = train_test_split(\n",
    "    X_interaction, y_interaction, test_size=0.2, random_state=42\n",
    ")\n",
    "\n",
    "param_grid_interaction = {'C': [0.01, 0.1, 0.5, 1, 5, 10, 20]}\n",
    "grid_search_interaction = GridSearchCV(\n",
    "    estimator=LogisticRegression(multi_class='multinomial', solver='lbfgs', max_iter=500, random_state=42),\n",
    "    param_grid=param_grid_interaction,\n",
    "    cv=5,\n",
    "    scoring='accuracy',\n",
    "    n_jobs=-1\n",
    ")\n",
    "\n",
    "grid_search_interaction.fit(X_train_interaction, y_train_interaction)\n",
    "\n",
    "print(\"Best parameters with interaction features:\", grid_search_interaction.best_params_)\n",
    "print(\"Best cross-validation accuracy with interaction features:\", grid_search_interaction.best_score_)\n",
    "\n",
    "best_model_interaction = grid_search_interaction.best_estimator_\n",
    "y_pred_interaction = best_model_interaction.predict(X_test_interaction)\n",
    "\n",
    "accuracy_interaction = accuracy_score(y_test_interaction, y_pred_interaction)\n",
    "print(f\"Test set accuracy with interaction features and tuned hyperparameters: {accuracy_interaction:.2f}\")"
   ]
  },
  {
   "cell_type": "code",
   "execution_count": null,
   "id": "70d91366",
   "metadata": {},
   "outputs": [
    {
     "name": "stderr",
     "output_type": "stream",
     "text": [
      "c:\\Users\\Owner\\Documents\\GitHub\\FA5_DSC1107\\.env\\Lib\\site-packages\\sklearn\\linear_model\\_logistic.py:1247: FutureWarning: 'multi_class' was deprecated in version 1.5 and will be removed in 1.7. From then on, it will always use 'multinomial'. Leave it to its default value to avoid this warning.\n",
      "  warnings.warn(\n",
      "c:\\Users\\Owner\\Documents\\GitHub\\FA5_DSC1107\\.env\\Lib\\site-packages\\sklearn\\linear_model\\_logistic.py:465: ConvergenceWarning: lbfgs failed to converge (status=1):\n",
      "STOP: TOTAL NO. OF ITERATIONS REACHED LIMIT.\n",
      "\n",
      "Increase the number of iterations (max_iter) or scale the data as shown in:\n",
      "    https://scikit-learn.org/stable/modules/preprocessing.html\n",
      "Please also refer to the documentation for alternative solver options:\n",
      "    https://scikit-learn.org/stable/modules/linear_model.html#logistic-regression\n",
      "  n_iter_i = _check_optimize_result(\n",
      "c:\\Users\\Owner\\Documents\\GitHub\\FA5_DSC1107\\.env\\Lib\\site-packages\\sklearn\\linear_model\\_logistic.py:1247: FutureWarning: 'multi_class' was deprecated in version 1.5 and will be removed in 1.7. From then on, it will always use 'multinomial'. Leave it to its default value to avoid this warning.\n",
      "  warnings.warn(\n",
      "c:\\Users\\Owner\\Documents\\GitHub\\FA5_DSC1107\\.env\\Lib\\site-packages\\sklearn\\linear_model\\_logistic.py:465: ConvergenceWarning: lbfgs failed to converge (status=1):\n",
      "STOP: TOTAL NO. OF ITERATIONS REACHED LIMIT.\n",
      "\n",
      "Increase the number of iterations (max_iter) or scale the data as shown in:\n",
      "    https://scikit-learn.org/stable/modules/preprocessing.html\n",
      "Please also refer to the documentation for alternative solver options:\n",
      "    https://scikit-learn.org/stable/modules/linear_model.html#logistic-regression\n",
      "  n_iter_i = _check_optimize_result(\n",
      "c:\\Users\\Owner\\Documents\\GitHub\\FA5_DSC1107\\.env\\Lib\\site-packages\\sklearn\\linear_model\\_logistic.py:1247: FutureWarning: 'multi_class' was deprecated in version 1.5 and will be removed in 1.7. From then on, it will always use 'multinomial'. Leave it to its default value to avoid this warning.\n",
      "  warnings.warn(\n",
      "c:\\Users\\Owner\\Documents\\GitHub\\FA5_DSC1107\\.env\\Lib\\site-packages\\sklearn\\linear_model\\_logistic.py:465: ConvergenceWarning: lbfgs failed to converge (status=1):\n",
      "STOP: TOTAL NO. OF ITERATIONS REACHED LIMIT.\n",
      "\n",
      "Increase the number of iterations (max_iter) or scale the data as shown in:\n",
      "    https://scikit-learn.org/stable/modules/preprocessing.html\n",
      "Please also refer to the documentation for alternative solver options:\n",
      "    https://scikit-learn.org/stable/modules/linear_model.html#logistic-regression\n",
      "  n_iter_i = _check_optimize_result(\n",
      "c:\\Users\\Owner\\Documents\\GitHub\\FA5_DSC1107\\.env\\Lib\\site-packages\\sklearn\\linear_model\\_logistic.py:1247: FutureWarning: 'multi_class' was deprecated in version 1.5 and will be removed in 1.7. From then on, it will always use 'multinomial'. Leave it to its default value to avoid this warning.\n",
      "  warnings.warn(\n",
      "c:\\Users\\Owner\\Documents\\GitHub\\FA5_DSC1107\\.env\\Lib\\site-packages\\sklearn\\linear_model\\_logistic.py:465: ConvergenceWarning: lbfgs failed to converge (status=1):\n",
      "STOP: TOTAL NO. OF ITERATIONS REACHED LIMIT.\n",
      "\n",
      "Increase the number of iterations (max_iter) or scale the data as shown in:\n",
      "    https://scikit-learn.org/stable/modules/preprocessing.html\n",
      "Please also refer to the documentation for alternative solver options:\n",
      "    https://scikit-learn.org/stable/modules/linear_model.html#logistic-regression\n",
      "  n_iter_i = _check_optimize_result(\n",
      "c:\\Users\\Owner\\Documents\\GitHub\\FA5_DSC1107\\.env\\Lib\\site-packages\\sklearn\\linear_model\\_logistic.py:1247: FutureWarning: 'multi_class' was deprecated in version 1.5 and will be removed in 1.7. From then on, it will always use 'multinomial'. Leave it to its default value to avoid this warning.\n",
      "  warnings.warn(\n"
     ]
    },
    {
     "name": "stdout",
     "output_type": "stream",
     "text": [
      "Cross-validation scores: [0.33839582 0.33412435 0.34852802 0.3300095  0.34330484]\n",
      "Mean cross-validation accuracy: 0.338872505206946\n"
     ]
    },
    {
     "name": "stderr",
     "output_type": "stream",
     "text": [
      "c:\\Users\\Owner\\Documents\\GitHub\\FA5_DSC1107\\.env\\Lib\\site-packages\\sklearn\\linear_model\\_logistic.py:465: ConvergenceWarning: lbfgs failed to converge (status=1):\n",
      "STOP: TOTAL NO. OF ITERATIONS REACHED LIMIT.\n",
      "\n",
      "Increase the number of iterations (max_iter) or scale the data as shown in:\n",
      "    https://scikit-learn.org/stable/modules/preprocessing.html\n",
      "Please also refer to the documentation for alternative solver options:\n",
      "    https://scikit-learn.org/stable/modules/linear_model.html#logistic-regression\n",
      "  n_iter_i = _check_optimize_result(\n"
     ]
    }
   ],
   "source": [
    "from sklearn.model_selection import cross_val_score\n",
    "\n",
    "cv_scores = cross_val_score(best_model, X, y, cv=5, scoring='accuracy')\n",
    "\n",
    "print(\"Cross-validation scores:\", cv_scores)\n",
    "print(\"Mean cross-validation accuracy:\", cv_scores.mean())"
   ]
  },
  {
   "cell_type": "markdown",
   "id": "f7dccb14",
   "metadata": {},
   "source": [
    "# Customer Segmentation Analysis Report\n",
    "\n",
    "## Model Development and Evaluation\n",
    "\n",
    "The customer segmentation model was developed using a multinomial logistic regression approach. The dataset was preprocessed to handle missing values, encode categorical variables, and scale continuous features. Interaction features were also generated to capture relationships between variables. The dataset was split into training and testing sets, and hyperparameter tuning was performed using GridSearchCV to optimize the regularization parameter (`C`).\n",
    "\n",
    "Two models were evaluated:\n",
    "1. **Base Model**: Logistic regression without interaction features achieved an accuracy of **32.75%**.\n",
    "2. **Interaction Model**: Logistic regression with interaction features achieved an improved accuracy of **33.46%**.\n",
    "\n",
    "The evaluation metrics included accuracy, precision, recall, F1-score, and log-loss. The confusion matrix revealed that the model struggled to distinguish between customer segments, indicating overlapping characteristics among segments.\n",
    "\n",
    "## Key Features Influencing Customer Segmentation\n",
    "\n",
    "The most important features influencing customer segmentation were:\n",
    "- **Age**: Younger and older customers exhibited distinct spending patterns.\n",
    "- **Annual Income (K$)**: Income levels significantly impacted purchasing behavior.\n",
    "- **Average Spend per Visit ($)**: Higher spending per visit correlated with premium segments.\n",
    "- **Interaction Features**: Relationships between age, income, and spending provided additional insights into customer behavior.\n",
    "\n",
    "## Recommendations for Improving Segmentation and Targeting\n",
    "\n",
    "1. **Feature Engineering**:\n",
    "    - Incorporate additional features such as customer loyalty scores, geographic location, and online vs. in-store purchases.\n",
    "    - Explore non-linear relationships using polynomial features of higher degrees.\n",
    "\n",
    "2. **Advanced Models**:\n",
    "    - Experiment with ensemble methods like Random Forest or Gradient Boosting to capture complex patterns.\n",
    "    - Use clustering algorithms (e.g., K-Means or DBSCAN) to identify natural groupings in the data.\n",
    "\n",
    "3. **Data Enrichment**:\n",
    "    - Collect more granular data on customer preferences, purchase history, and feedback.\n",
    "    - Include external data sources, such as market trends or competitor analysis.\n",
    "\n",
    "4. **Targeted Marketing**:\n",
    "    - Develop personalized marketing strategies based on segment characteristics.\n",
    "    - Focus on high-value customers by offering tailored promotions and loyalty programs.\n",
    "\n",
    "5. **Model Evaluation**:\n",
    "    - Perform cross-validation with additional metrics like ROC-AUC to ensure robustness.\n",
    "    - Regularly update the model with new data to adapt to changing customer behavior.\n",
    "\n",
    "By implementing these recommendations, the organization can enhance its customer segmentation strategy, leading to more effective targeting and improved customer satisfaction."
   ]
  },
  {
   "cell_type": "markdown",
   "id": "45ba2667",
   "metadata": {},
   "source": []
  }
 ],
 "metadata": {
  "kernelspec": {
   "display_name": ".env",
   "language": "python",
   "name": "python3"
  },
  "language_info": {
   "codemirror_mode": {
    "name": "ipython",
    "version": 3
   },
   "file_extension": ".py",
   "mimetype": "text/x-python",
   "name": "python",
   "nbconvert_exporter": "python",
   "pygments_lexer": "ipython3",
   "version": "3.13.3"
  }
 },
 "nbformat": 4,
 "nbformat_minor": 5
}
